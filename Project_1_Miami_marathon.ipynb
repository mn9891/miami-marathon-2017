{
 "cells": [
  {
   "cell_type": "markdown",
   "metadata": {},
   "source": [
    "# Predicting the Attendance for the 2017 Miami Marathon"
   ]
  },
  {
   "cell_type": "markdown",
   "metadata": {},
   "source": [
    "<div style=\"text-align: right\"> Amen Memmi</div>\n",
    "<div style=\"text-align: right\"> amen.memmi@mail.mcgill.ca</div>\n",
    "<div style=\"text-align: right\">  ID: 260755070</div>"
   ]
  },
  {
   "cell_type": "markdown",
   "metadata": {},
   "source": [
    "### This notebook is my participation in the group work for the first mini project from COMP-598 course. It aims at predicting the attendance for the 2017 Miami Marathon and it consists of data preprocessing, features engineering, balancing training classes and training naive Bayes classifier to finally generate the prediction file for the attendance. Details are below. "
   ]
  },
  {
   "cell_type": "markdown",
   "metadata": {},
   "source": [
    "The provided dataset includes participants in the Miami marathon and their performances, for the last 15 years. It contains over 38,000 entries."
   ]
  },
  {
   "cell_type": "code",
   "execution_count": 1,
   "metadata": {},
   "outputs": [],
   "source": [
    "import numpy as np\n",
    "import pandas as pd\n",
    "from sklearn.model_selection import train_test_split\n",
    "from sklearn.naive_bayes import GaussianNB\n",
    "from sklearn import preprocessing\n",
    "\n",
    "from sklearn.metrics import classification_report\n",
    "from matplotlib import pyplot as plt\n",
    "%matplotlib inline\n",
    "from imblearn.combine import SMOTETomek #install from: conda install -c glemaitre imbalanced-learn\n",
    "from collections import Counter\n",
    "\n"
   ]
  },
  {
   "cell_type": "markdown",
   "metadata": {},
   "source": [
    "## Data preprocessing"
   ]
  },
  {
   "cell_type": "code",
   "execution_count": 2,
   "metadata": {},
   "outputs": [],
   "source": [
    "data_df = pd.read_csv('Project1_data.csv')"
   ]
  },
  {
   "cell_type": "code",
   "execution_count": 3,
   "metadata": {},
   "outputs": [
    {
     "data": {
      "text/html": [
       "<div>\n",
       "<style scoped>\n",
       "    .dataframe tbody tr th:only-of-type {\n",
       "        vertical-align: middle;\n",
       "    }\n",
       "\n",
       "    .dataframe tbody tr th {\n",
       "        vertical-align: top;\n",
       "    }\n",
       "\n",
       "    .dataframe thead th {\n",
       "        text-align: right;\n",
       "    }\n",
       "</style>\n",
       "<table border=\"1\" class=\"dataframe\">\n",
       "  <thead>\n",
       "    <tr style=\"text-align: right;\">\n",
       "      <th></th>\n",
       "      <th>Id</th>\n",
       "      <th>Name</th>\n",
       "      <th>Age Category</th>\n",
       "      <th>Sex</th>\n",
       "      <th>Rank</th>\n",
       "      <th>Time</th>\n",
       "      <th>Pace</th>\n",
       "      <th>Year</th>\n",
       "    </tr>\n",
       "  </thead>\n",
       "  <tbody>\n",
       "    <tr>\n",
       "      <th>38801</th>\n",
       "      <td>30415</td>\n",
       "      <td>regine wolf</td>\n",
       "      <td>45</td>\n",
       "      <td>F</td>\n",
       "      <td>511</td>\n",
       "      <td>3:44:54</td>\n",
       "      <td>08:35</td>\n",
       "      <td>2015</td>\n",
       "    </tr>\n",
       "    <tr>\n",
       "      <th>38802</th>\n",
       "      <td>30416</td>\n",
       "      <td>dimitri boutsikakis</td>\n",
       "      <td>35</td>\n",
       "      <td>M</td>\n",
       "      <td>640</td>\n",
       "      <td>3:51:36</td>\n",
       "      <td>08:50</td>\n",
       "      <td>2015</td>\n",
       "    </tr>\n",
       "    <tr>\n",
       "      <th>38803</th>\n",
       "      <td>30417</td>\n",
       "      <td>rodrigo pincheira</td>\n",
       "      <td>40</td>\n",
       "      <td>M</td>\n",
       "      <td>10</td>\n",
       "      <td>2:50:26</td>\n",
       "      <td>06:30</td>\n",
       "      <td>2015</td>\n",
       "    </tr>\n",
       "  </tbody>\n",
       "</table>\n",
       "</div>"
      ],
      "text/plain": [
       "          Id                 Name  Age Category Sex  Rank     Time   Pace  \\\n",
       "38801  30415          regine wolf            45   F   511  3:44:54  08:35   \n",
       "38802  30416  dimitri boutsikakis            35   M   640  3:51:36  08:50   \n",
       "38803  30417    rodrigo pincheira            40   M    10  2:50:26  06:30   \n",
       "\n",
       "       Year  \n",
       "38801  2015  \n",
       "38802  2015  \n",
       "38803  2015  "
      ]
     },
     "execution_count": 3,
     "metadata": {},
     "output_type": "execute_result"
    }
   ],
   "source": [
    "data_df.tail(3)"
   ]
  },
  {
   "cell_type": "markdown",
   "metadata": {},
   "source": [
    "Convert sex to numerical category:"
   ]
  },
  {
   "cell_type": "code",
   "execution_count": 4,
   "metadata": {},
   "outputs": [],
   "source": [
    "data_df.Sex = pd.Categorical(data_df.Sex) # convert to Categorical\n",
    "data_df.Sex = data_df.Sex.cat.codes       # map to category code:  Male:1,  Female:0"
   ]
  },
  {
   "cell_type": "markdown",
   "metadata": {},
   "source": [
    "Convert time to seconds:"
   ]
  },
  {
   "cell_type": "code",
   "execution_count": 5,
   "metadata": {},
   "outputs": [],
   "source": [
    "data_df.Time = pd.to_timedelta(data_df.Time,'s').dt.total_seconds().astype(int)"
   ]
  },
  {
   "cell_type": "markdown",
   "metadata": {},
   "source": [
    "We drop Pace column since it give the same information as time, knowing that it's teh same distance:"
   ]
  },
  {
   "cell_type": "code",
   "execution_count": 6,
   "metadata": {},
   "outputs": [],
   "source": [
    "data_df = data_df.drop(columns=['Pace'])"
   ]
  },
  {
   "cell_type": "code",
   "execution_count": 7,
   "metadata": {},
   "outputs": [
    {
     "data": {
      "text/html": [
       "<div>\n",
       "<style scoped>\n",
       "    .dataframe tbody tr th:only-of-type {\n",
       "        vertical-align: middle;\n",
       "    }\n",
       "\n",
       "    .dataframe tbody tr th {\n",
       "        vertical-align: top;\n",
       "    }\n",
       "\n",
       "    .dataframe thead th {\n",
       "        text-align: right;\n",
       "    }\n",
       "</style>\n",
       "<table border=\"1\" class=\"dataframe\">\n",
       "  <thead>\n",
       "    <tr style=\"text-align: right;\">\n",
       "      <th></th>\n",
       "      <th>Id</th>\n",
       "      <th>Name</th>\n",
       "      <th>Age Category</th>\n",
       "      <th>Sex</th>\n",
       "      <th>Rank</th>\n",
       "      <th>Time</th>\n",
       "      <th>Year</th>\n",
       "    </tr>\n",
       "  </thead>\n",
       "  <tbody>\n",
       "    <tr>\n",
       "      <th>38801</th>\n",
       "      <td>30415</td>\n",
       "      <td>regine wolf</td>\n",
       "      <td>45</td>\n",
       "      <td>0</td>\n",
       "      <td>511</td>\n",
       "      <td>13494</td>\n",
       "      <td>2015</td>\n",
       "    </tr>\n",
       "    <tr>\n",
       "      <th>38802</th>\n",
       "      <td>30416</td>\n",
       "      <td>dimitri boutsikakis</td>\n",
       "      <td>35</td>\n",
       "      <td>1</td>\n",
       "      <td>640</td>\n",
       "      <td>13896</td>\n",
       "      <td>2015</td>\n",
       "    </tr>\n",
       "    <tr>\n",
       "      <th>38803</th>\n",
       "      <td>30417</td>\n",
       "      <td>rodrigo pincheira</td>\n",
       "      <td>40</td>\n",
       "      <td>1</td>\n",
       "      <td>10</td>\n",
       "      <td>10226</td>\n",
       "      <td>2015</td>\n",
       "    </tr>\n",
       "  </tbody>\n",
       "</table>\n",
       "</div>"
      ],
      "text/plain": [
       "          Id                 Name  Age Category  Sex  Rank   Time  Year\n",
       "38801  30415          regine wolf            45    0   511  13494  2015\n",
       "38802  30416  dimitri boutsikakis            35    1   640  13896  2015\n",
       "38803  30417    rodrigo pincheira            40    1    10  10226  2015"
      ]
     },
     "execution_count": 7,
     "metadata": {},
     "output_type": "execute_result"
    }
   ],
   "source": [
    "data_df.tail(3)"
   ]
  },
  {
   "cell_type": "code",
   "execution_count": 8,
   "metadata": {},
   "outputs": [
    {
     "data": {
      "text/plain": [
       "array([2016, 2015, 2014, 2010, 2008, 2009, 2007, 2011, 2006, 2012, 2013,\n",
       "       2005, 2004, 2003], dtype=int64)"
      ]
     },
     "execution_count": 8,
     "metadata": {},
     "output_type": "execute_result"
    }
   ],
   "source": [
    "data_df.Year.unique()"
   ]
  },
  {
   "cell_type": "code",
   "execution_count": 9,
   "metadata": {},
   "outputs": [
    {
     "name": "stdout",
     "output_type": "stream",
     "text": [
      "Average time for the year 2003 is 15480.990378006873 \n",
      "Average time for the year 2004 is 16114.934463276837 \n",
      "Average time for the year 2005 is 15955.415105053946 \n",
      "Average time for the year 2006 is 16645.943564758425 \n",
      "Average time for the year 2007 is 17014.228222309815 \n",
      "Average time for the year 2008 is 16084.394986707179 \n",
      "Average time for the year 2009 is 16141.63616636528 \n",
      "Average time for the year 2010 is 16603.382291666665 \n",
      "Average time for the year 2011 is 16032.712468193384 \n",
      "Average time for the year 2012 is 16552.052658486708 \n",
      "Average time for the year 2013 is 6687.648069804336 \n",
      "Average time for the year 2014 is 17030.870375600112 \n",
      "Average time for the year 2015 is 16248.480377906977 \n",
      "Average time for the year 2016 is 16375.103116710876 \n"
     ]
    }
   ],
   "source": [
    "for y in range(2003,2017):\n",
    "    m = data_df[data_df.Year == y].Time.mean()\n",
    "    print(f'Average time for the year {y} is {m} ')"
   ]
  },
  {
   "cell_type": "markdown",
   "metadata": {},
   "source": [
    "We noticed that Time data for 2013 is much lower than other years. After investigating the source (Athlinks.com), became apparent that the half marathon results were mistakenly included in the provided dataset. To rectify this, a scraper was written to pull the correct full marathon results and replace them."
   ]
  },
  {
   "cell_type": "code",
   "execution_count": 10,
   "metadata": {},
   "outputs": [
    {
     "data": {
      "text/html": [
       "<div>\n",
       "<style scoped>\n",
       "    .dataframe tbody tr th:only-of-type {\n",
       "        vertical-align: middle;\n",
       "    }\n",
       "\n",
       "    .dataframe tbody tr th {\n",
       "        vertical-align: top;\n",
       "    }\n",
       "\n",
       "    .dataframe thead th {\n",
       "        text-align: right;\n",
       "    }\n",
       "</style>\n",
       "<table border=\"1\" class=\"dataframe\">\n",
       "  <thead>\n",
       "    <tr style=\"text-align: right;\">\n",
       "      <th></th>\n",
       "      <th>Id</th>\n",
       "      <th>Name</th>\n",
       "      <th>Age Category</th>\n",
       "      <th>Sex</th>\n",
       "      <th>Rank</th>\n",
       "      <th>Time</th>\n",
       "      <th>Pace</th>\n",
       "      <th>Year</th>\n",
       "    </tr>\n",
       "  </thead>\n",
       "  <tbody>\n",
       "    <tr>\n",
       "      <th>632</th>\n",
       "      <td>30832</td>\n",
       "      <td>samuel rocke</td>\n",
       "      <td>26</td>\n",
       "      <td>M</td>\n",
       "      <td>635</td>\n",
       "      <td>3:52:11</td>\n",
       "      <td>NaN</td>\n",
       "      <td>2013</td>\n",
       "    </tr>\n",
       "    <tr>\n",
       "      <th>427</th>\n",
       "      <td>26478</td>\n",
       "      <td>tim odonohue</td>\n",
       "      <td>49</td>\n",
       "      <td>M</td>\n",
       "      <td>430</td>\n",
       "      <td>3:41:36</td>\n",
       "      <td>NaN</td>\n",
       "      <td>2013</td>\n",
       "    </tr>\n",
       "  </tbody>\n",
       "</table>\n",
       "</div>"
      ],
      "text/plain": [
       "        Id          Name  Age Category Sex  Rank     Time  Pace  Year\n",
       "632  30832  samuel rocke            26   M   635  3:52:11   NaN  2013\n",
       "427  26478  tim odonohue            49   M   430  3:41:36   NaN  2013"
      ]
     },
     "execution_count": 10,
     "metadata": {},
     "output_type": "execute_result"
    }
   ],
   "source": [
    "data_df_2013 = pd.read_csv('full_marathon_data_2013.csv')\n",
    "data_df_2013.sample(2)"
   ]
  },
  {
   "cell_type": "code",
   "execution_count": 11,
   "metadata": {},
   "outputs": [
    {
     "data": {
      "text/plain": [
       "35022"
      ]
     },
     "execution_count": 11,
     "metadata": {},
     "output_type": "execute_result"
    }
   ],
   "source": [
    "data_df[data_df.Year!=2013].shape[0]"
   ]
  },
  {
   "cell_type": "code",
   "execution_count": 12,
   "metadata": {},
   "outputs": [
    {
     "data": {
      "text/html": [
       "<div>\n",
       "<style scoped>\n",
       "    .dataframe tbody tr th:only-of-type {\n",
       "        vertical-align: middle;\n",
       "    }\n",
       "\n",
       "    .dataframe tbody tr th {\n",
       "        vertical-align: top;\n",
       "    }\n",
       "\n",
       "    .dataframe thead th {\n",
       "        text-align: right;\n",
       "    }\n",
       "</style>\n",
       "<table border=\"1\" class=\"dataframe\">\n",
       "  <thead>\n",
       "    <tr style=\"text-align: right;\">\n",
       "      <th></th>\n",
       "      <th>Id</th>\n",
       "      <th>Name</th>\n",
       "      <th>Age Category</th>\n",
       "      <th>Sex</th>\n",
       "      <th>Rank</th>\n",
       "      <th>Time</th>\n",
       "      <th>Year</th>\n",
       "    </tr>\n",
       "  </thead>\n",
       "  <tbody>\n",
       "    <tr>\n",
       "      <th>2503</th>\n",
       "      <td>32066</td>\n",
       "      <td>sky strickland</td>\n",
       "      <td>37</td>\n",
       "      <td>0</td>\n",
       "      <td>2409</td>\n",
       "      <td>17662</td>\n",
       "      <td>2013</td>\n",
       "    </tr>\n",
       "    <tr>\n",
       "      <th>471</th>\n",
       "      <td>30720</td>\n",
       "      <td>nelson sayegh</td>\n",
       "      <td>47</td>\n",
       "      <td>1</td>\n",
       "      <td>474</td>\n",
       "      <td>13444</td>\n",
       "      <td>2013</td>\n",
       "    </tr>\n",
       "  </tbody>\n",
       "</table>\n",
       "</div>"
      ],
      "text/plain": [
       "         Id            Name  Age Category  Sex  Rank   Time  Year\n",
       "2503  32066  sky strickland            37    0  2409  17662  2013\n",
       "471   30720   nelson sayegh            47    1   474  13444  2013"
      ]
     },
     "execution_count": 12,
     "metadata": {},
     "output_type": "execute_result"
    }
   ],
   "source": [
    "# we apply the same changes\n",
    "data_df_2013.Sex = pd.Categorical(data_df_2013.Sex) # convert to Categorical\n",
    "data_df_2013.Sex = data_df_2013.Sex.cat.codes       # map to category code:  Male:1,  Female:0\n",
    "data_df_2013.Time = pd.to_timedelta(data_df_2013.Time,'s').dt.total_seconds().astype(int)\n",
    "data_df_2013 = data_df_2013.drop(columns=['Pace'])\n",
    "data_df_2013.sample(2)"
   ]
  },
  {
   "cell_type": "markdown",
   "metadata": {},
   "source": [
    "We drop the wrong old data and replace it with new acquired:"
   ]
  },
  {
   "cell_type": "code",
   "execution_count": 13,
   "metadata": {},
   "outputs": [],
   "source": [
    "data_df = data_df[data_df.Year!=2013].append(data_df_2013,ignore_index=True)\n"
   ]
  },
  {
   "cell_type": "markdown",
   "metadata": {},
   "source": [
    "We notice also that for some years the actual age is given while for other the age category is the one provided, we unify this to age category by 5 years chunks:"
   ]
  },
  {
   "cell_type": "code",
   "execution_count": 14,
   "metadata": {},
   "outputs": [],
   "source": [
    "data_df['Age Category'] = data_df['Age Category'] //5  * 5"
   ]
  },
  {
   "cell_type": "markdown",
   "metadata": {},
   "source": [
    "Let's check the biggest participation frequency "
   ]
  },
  {
   "cell_type": "code",
   "execution_count": 15,
   "metadata": {},
   "outputs": [
    {
     "data": {
      "text/plain": [
       "3327    301\n",
       "2169     14\n",
       "2034     14\n",
       "635      14\n",
       "1643     14\n",
       "Name: Id, dtype: int64"
      ]
     },
     "execution_count": 15,
     "metadata": {},
     "output_type": "execute_result"
    }
   ],
   "source": [
    "data_df.Id.value_counts().head()"
   ]
  },
  {
   "cell_type": "markdown",
   "metadata": {},
   "source": [
    "There is some regular participants that were present each year since 2003, but there is an anomalie with id 3327 having participated 301 time in 14 years! Let's check it out:"
   ]
  },
  {
   "cell_type": "code",
   "execution_count": 16,
   "metadata": {},
   "outputs": [
    {
     "data": {
      "text/html": [
       "<div>\n",
       "<style scoped>\n",
       "    .dataframe tbody tr th:only-of-type {\n",
       "        vertical-align: middle;\n",
       "    }\n",
       "\n",
       "    .dataframe tbody tr th {\n",
       "        vertical-align: top;\n",
       "    }\n",
       "\n",
       "    .dataframe thead th {\n",
       "        text-align: right;\n",
       "    }\n",
       "</style>\n",
       "<table border=\"1\" class=\"dataframe\">\n",
       "  <thead>\n",
       "    <tr style=\"text-align: right;\">\n",
       "      <th></th>\n",
       "      <th>Id</th>\n",
       "      <th>Name</th>\n",
       "      <th>Age Category</th>\n",
       "      <th>Sex</th>\n",
       "      <th>Rank</th>\n",
       "      <th>Time</th>\n",
       "      <th>Year</th>\n",
       "    </tr>\n",
       "  </thead>\n",
       "  <tbody>\n",
       "    <tr>\n",
       "      <th>5276</th>\n",
       "      <td>3327</td>\n",
       "      <td>private</td>\n",
       "      <td>20</td>\n",
       "      <td>0</td>\n",
       "      <td>1682</td>\n",
       "      <td>16626</td>\n",
       "      <td>2014</td>\n",
       "    </tr>\n",
       "    <tr>\n",
       "      <th>5277</th>\n",
       "      <td>3327</td>\n",
       "      <td>private</td>\n",
       "      <td>45</td>\n",
       "      <td>0</td>\n",
       "      <td>2143</td>\n",
       "      <td>17668</td>\n",
       "      <td>2014</td>\n",
       "    </tr>\n",
       "    <tr>\n",
       "      <th>5278</th>\n",
       "      <td>3327</td>\n",
       "      <td>private</td>\n",
       "      <td>45</td>\n",
       "      <td>1</td>\n",
       "      <td>374</td>\n",
       "      <td>13425</td>\n",
       "      <td>2010</td>\n",
       "    </tr>\n",
       "    <tr>\n",
       "      <th>5279</th>\n",
       "      <td>3327</td>\n",
       "      <td>private</td>\n",
       "      <td>25</td>\n",
       "      <td>0</td>\n",
       "      <td>1010</td>\n",
       "      <td>15151</td>\n",
       "      <td>2014</td>\n",
       "    </tr>\n",
       "    <tr>\n",
       "      <th>5280</th>\n",
       "      <td>3327</td>\n",
       "      <td>private</td>\n",
       "      <td>50</td>\n",
       "      <td>0</td>\n",
       "      <td>2041</td>\n",
       "      <td>16452</td>\n",
       "      <td>2012</td>\n",
       "    </tr>\n",
       "  </tbody>\n",
       "</table>\n",
       "</div>"
      ],
      "text/plain": [
       "        Id     Name  Age Category  Sex  Rank   Time  Year\n",
       "5276  3327  private            20    0  1682  16626  2014\n",
       "5277  3327  private            45    0  2143  17668  2014\n",
       "5278  3327  private            45    1   374  13425  2010\n",
       "5279  3327  private            25    0  1010  15151  2014\n",
       "5280  3327  private            50    0  2041  16452  2012"
      ]
     },
     "execution_count": 16,
     "metadata": {},
     "output_type": "execute_result"
    }
   ],
   "source": [
    "data_df[data_df.Id==3327].head()"
   ]
  },
  {
   "cell_type": "markdown",
   "metadata": {},
   "source": [
    "It seems like there are some people that prefered to keep their identity and all of them where labeled as 'private', we need to drop those:"
   ]
  },
  {
   "cell_type": "code",
   "execution_count": 17,
   "metadata": {},
   "outputs": [
    {
     "data": {
      "text/html": [
       "<div>\n",
       "<style scoped>\n",
       "    .dataframe tbody tr th:only-of-type {\n",
       "        vertical-align: middle;\n",
       "    }\n",
       "\n",
       "    .dataframe tbody tr th {\n",
       "        vertical-align: top;\n",
       "    }\n",
       "\n",
       "    .dataframe thead th {\n",
       "        text-align: right;\n",
       "    }\n",
       "</style>\n",
       "<table border=\"1\" class=\"dataframe\">\n",
       "  <thead>\n",
       "    <tr style=\"text-align: right;\">\n",
       "      <th></th>\n",
       "      <th>Id</th>\n",
       "      <th>Name</th>\n",
       "      <th>Age Category</th>\n",
       "      <th>Sex</th>\n",
       "      <th>Rank</th>\n",
       "      <th>Time</th>\n",
       "      <th>Year</th>\n",
       "    </tr>\n",
       "  </thead>\n",
       "  <tbody>\n",
       "    <tr>\n",
       "      <th>24665</th>\n",
       "      <td>18104</td>\n",
       "      <td>andrew henshaw</td>\n",
       "      <td>25</td>\n",
       "      <td>1</td>\n",
       "      <td>5</td>\n",
       "      <td>8797</td>\n",
       "      <td>2011</td>\n",
       "    </tr>\n",
       "    <tr>\n",
       "      <th>16130</th>\n",
       "      <td>11144</td>\n",
       "      <td>alban brideau</td>\n",
       "      <td>55</td>\n",
       "      <td>1</td>\n",
       "      <td>486</td>\n",
       "      <td>14050</td>\n",
       "      <td>2007</td>\n",
       "    </tr>\n",
       "    <tr>\n",
       "      <th>8750</th>\n",
       "      <td>5474</td>\n",
       "      <td>mayer trobman</td>\n",
       "      <td>60</td>\n",
       "      <td>1</td>\n",
       "      <td>409</td>\n",
       "      <td>13888</td>\n",
       "      <td>2004</td>\n",
       "    </tr>\n",
       "  </tbody>\n",
       "</table>\n",
       "</div>"
      ],
      "text/plain": [
       "          Id            Name  Age Category  Sex  Rank   Time  Year\n",
       "24665  18104  andrew henshaw            25    1     5   8797  2011\n",
       "16130  11144   alban brideau            55    1   486  14050  2007\n",
       "8750    5474   mayer trobman            60    1   409  13888  2004"
      ]
     },
     "execution_count": 17,
     "metadata": {},
     "output_type": "execute_result"
    }
   ],
   "source": [
    "data_df = data_df[data_df.Id!=3327].reset_index(drop=True)\n",
    "data_df.sample(3)"
   ]
  },
  {
   "cell_type": "markdown",
   "metadata": {},
   "source": [
    "## Feature engineering:"
   ]
  },
  {
   "cell_type": "code",
   "execution_count": 18,
   "metadata": {},
   "outputs": [],
   "source": [
    "data_df['run_count'] =  np.zeros(len(data_df))\n",
    "data_df['years_since_run'] =  np.zeros(len(data_df))"
   ]
  },
  {
   "cell_type": "code",
   "execution_count": 19,
   "metadata": {},
   "outputs": [],
   "source": [
    "sorted_df = data_df.sort_values(by=['Id','Year'])\n"
   ]
  },
  {
   "cell_type": "code",
   "execution_count": 20,
   "metadata": {},
   "outputs": [],
   "source": [
    "sorted_df['run_count'] = sorted_df.groupby(\"Id\").cumcount()\n",
    "sorted_df['years_since_run'] = [0]+[sorted_df.iloc[i].Year - sorted_df.iloc[i-1].Year if sorted_df.iloc[i].Id==sorted_df.iloc[i-1].Id else 0 for i in range(1,len(sorted_df))]"
   ]
  },
  {
   "cell_type": "code",
   "execution_count": 21,
   "metadata": {},
   "outputs": [],
   "source": [
    "sorted_df['particip_next_y'] = np.zeros(len(data_df))\n",
    "sorted_df['particip_next_y'] = [1 if ((sorted_df.iloc[i+1].Id==sorted_df.iloc[i].Id)&(sorted_df.iloc[i+1].years_since_run ==1)) else 0 for i in range(len(sorted_df)-1)]+[0]"
   ]
  },
  {
   "cell_type": "code",
   "execution_count": 22,
   "metadata": {},
   "outputs": [
    {
     "data": {
      "text/html": [
       "<div>\n",
       "<style scoped>\n",
       "    .dataframe tbody tr th:only-of-type {\n",
       "        vertical-align: middle;\n",
       "    }\n",
       "\n",
       "    .dataframe tbody tr th {\n",
       "        vertical-align: top;\n",
       "    }\n",
       "\n",
       "    .dataframe thead th {\n",
       "        text-align: right;\n",
       "    }\n",
       "</style>\n",
       "<table border=\"1\" class=\"dataframe\">\n",
       "  <thead>\n",
       "    <tr style=\"text-align: right;\">\n",
       "      <th></th>\n",
       "      <th>Id</th>\n",
       "      <th>Name</th>\n",
       "      <th>Age Category</th>\n",
       "      <th>Sex</th>\n",
       "      <th>Rank</th>\n",
       "      <th>Time</th>\n",
       "      <th>Year</th>\n",
       "      <th>run_count</th>\n",
       "      <th>years_since_run</th>\n",
       "      <th>particip_next_y</th>\n",
       "    </tr>\n",
       "  </thead>\n",
       "  <tbody>\n",
       "    <tr>\n",
       "      <th>0</th>\n",
       "      <td>1</td>\n",
       "      <td>carlos enrique portugal quintero</td>\n",
       "      <td>30</td>\n",
       "      <td>1</td>\n",
       "      <td>1263</td>\n",
       "      <td>15300</td>\n",
       "      <td>2016</td>\n",
       "      <td>0</td>\n",
       "      <td>0</td>\n",
       "      <td>0</td>\n",
       "    </tr>\n",
       "    <tr>\n",
       "      <th>1</th>\n",
       "      <td>2</td>\n",
       "      <td>leonel furlan</td>\n",
       "      <td>60</td>\n",
       "      <td>1</td>\n",
       "      <td>2289</td>\n",
       "      <td>18342</td>\n",
       "      <td>2016</td>\n",
       "      <td>0</td>\n",
       "      <td>0</td>\n",
       "      <td>0</td>\n",
       "    </tr>\n",
       "    <tr>\n",
       "      <th>2</th>\n",
       "      <td>3</td>\n",
       "      <td>meredith gray</td>\n",
       "      <td>30</td>\n",
       "      <td>0</td>\n",
       "      <td>2276</td>\n",
       "      <td>18274</td>\n",
       "      <td>2016</td>\n",
       "      <td>0</td>\n",
       "      <td>0</td>\n",
       "      <td>0</td>\n",
       "    </tr>\n",
       "    <tr>\n",
       "      <th>3</th>\n",
       "      <td>4</td>\n",
       "      <td>jason ainspan</td>\n",
       "      <td>35</td>\n",
       "      <td>1</td>\n",
       "      <td>670</td>\n",
       "      <td>13977</td>\n",
       "      <td>2015</td>\n",
       "      <td>0</td>\n",
       "      <td>0</td>\n",
       "      <td>1</td>\n",
       "    </tr>\n",
       "    <tr>\n",
       "      <th>4</th>\n",
       "      <td>4</td>\n",
       "      <td>jason ainspan</td>\n",
       "      <td>35</td>\n",
       "      <td>1</td>\n",
       "      <td>2390</td>\n",
       "      <td>18810</td>\n",
       "      <td>2016</td>\n",
       "      <td>1</td>\n",
       "      <td>1</td>\n",
       "      <td>0</td>\n",
       "    </tr>\n",
       "    <tr>\n",
       "      <th>12</th>\n",
       "      <td>5</td>\n",
       "      <td>marcela todd</td>\n",
       "      <td>30</td>\n",
       "      <td>0</td>\n",
       "      <td>2013</td>\n",
       "      <td>19772</td>\n",
       "      <td>2006</td>\n",
       "      <td>0</td>\n",
       "      <td>0</td>\n",
       "      <td>1</td>\n",
       "    </tr>\n",
       "    <tr>\n",
       "      <th>10</th>\n",
       "      <td>5</td>\n",
       "      <td>marcela todd</td>\n",
       "      <td>35</td>\n",
       "      <td>0</td>\n",
       "      <td>2002</td>\n",
       "      <td>19572</td>\n",
       "      <td>2007</td>\n",
       "      <td>1</td>\n",
       "      <td>1</td>\n",
       "      <td>1</td>\n",
       "    </tr>\n",
       "    <tr>\n",
       "      <th>8</th>\n",
       "      <td>5</td>\n",
       "      <td>marcela todd</td>\n",
       "      <td>35</td>\n",
       "      <td>0</td>\n",
       "      <td>2343</td>\n",
       "      <td>19729</td>\n",
       "      <td>2008</td>\n",
       "      <td>2</td>\n",
       "      <td>1</td>\n",
       "      <td>1</td>\n",
       "    </tr>\n",
       "    <tr>\n",
       "      <th>9</th>\n",
       "      <td>5</td>\n",
       "      <td>marcela todd</td>\n",
       "      <td>35</td>\n",
       "      <td>0</td>\n",
       "      <td>2415</td>\n",
       "      <td>19647</td>\n",
       "      <td>2009</td>\n",
       "      <td>3</td>\n",
       "      <td>1</td>\n",
       "      <td>1</td>\n",
       "    </tr>\n",
       "    <tr>\n",
       "      <th>7</th>\n",
       "      <td>5</td>\n",
       "      <td>marcela todd</td>\n",
       "      <td>35</td>\n",
       "      <td>0</td>\n",
       "      <td>2455</td>\n",
       "      <td>19744</td>\n",
       "      <td>2010</td>\n",
       "      <td>4</td>\n",
       "      <td>1</td>\n",
       "      <td>1</td>\n",
       "    </tr>\n",
       "    <tr>\n",
       "      <th>11</th>\n",
       "      <td>5</td>\n",
       "      <td>marcela todd</td>\n",
       "      <td>35</td>\n",
       "      <td>0</td>\n",
       "      <td>3140</td>\n",
       "      <td>19704</td>\n",
       "      <td>2011</td>\n",
       "      <td>5</td>\n",
       "      <td>1</td>\n",
       "      <td>1</td>\n",
       "    </tr>\n",
       "    <tr>\n",
       "      <th>13</th>\n",
       "      <td>5</td>\n",
       "      <td>marcela todd</td>\n",
       "      <td>40</td>\n",
       "      <td>0</td>\n",
       "      <td>3329</td>\n",
       "      <td>19715</td>\n",
       "      <td>2012</td>\n",
       "      <td>6</td>\n",
       "      <td>1</td>\n",
       "      <td>1</td>\n",
       "    </tr>\n",
       "    <tr>\n",
       "      <th>37987</th>\n",
       "      <td>5</td>\n",
       "      <td>marcela todd</td>\n",
       "      <td>40</td>\n",
       "      <td>0</td>\n",
       "      <td>3173</td>\n",
       "      <td>19762</td>\n",
       "      <td>2013</td>\n",
       "      <td>7</td>\n",
       "      <td>1</td>\n",
       "      <td>1</td>\n",
       "    </tr>\n",
       "    <tr>\n",
       "      <th>6</th>\n",
       "      <td>5</td>\n",
       "      <td>marcela todd</td>\n",
       "      <td>40</td>\n",
       "      <td>0</td>\n",
       "      <td>3086</td>\n",
       "      <td>20594</td>\n",
       "      <td>2014</td>\n",
       "      <td>8</td>\n",
       "      <td>1</td>\n",
       "      <td>0</td>\n",
       "    </tr>\n",
       "    <tr>\n",
       "      <th>5</th>\n",
       "      <td>5</td>\n",
       "      <td>marcela todd</td>\n",
       "      <td>40</td>\n",
       "      <td>0</td>\n",
       "      <td>2608</td>\n",
       "      <td>19714</td>\n",
       "      <td>2016</td>\n",
       "      <td>9</td>\n",
       "      <td>2</td>\n",
       "      <td>0</td>\n",
       "    </tr>\n",
       "  </tbody>\n",
       "</table>\n",
       "</div>"
      ],
      "text/plain": [
       "       Id                              Name  Age Category  Sex  Rank   Time  \\\n",
       "0       1  carlos enrique portugal quintero            30    1  1263  15300   \n",
       "1       2                     leonel furlan            60    1  2289  18342   \n",
       "2       3                     meredith gray            30    0  2276  18274   \n",
       "3       4                     jason ainspan            35    1   670  13977   \n",
       "4       4                     jason ainspan            35    1  2390  18810   \n",
       "12      5                      marcela todd            30    0  2013  19772   \n",
       "10      5                      marcela todd            35    0  2002  19572   \n",
       "8       5                      marcela todd            35    0  2343  19729   \n",
       "9       5                      marcela todd            35    0  2415  19647   \n",
       "7       5                      marcela todd            35    0  2455  19744   \n",
       "11      5                      marcela todd            35    0  3140  19704   \n",
       "13      5                      marcela todd            40    0  3329  19715   \n",
       "37987   5                      marcela todd            40    0  3173  19762   \n",
       "6       5                      marcela todd            40    0  3086  20594   \n",
       "5       5                      marcela todd            40    0  2608  19714   \n",
       "\n",
       "       Year  run_count  years_since_run  particip_next_y  \n",
       "0      2016          0                0                0  \n",
       "1      2016          0                0                0  \n",
       "2      2016          0                0                0  \n",
       "3      2015          0                0                1  \n",
       "4      2016          1                1                0  \n",
       "12     2006          0                0                1  \n",
       "10     2007          1                1                1  \n",
       "8      2008          2                1                1  \n",
       "9      2009          3                1                1  \n",
       "7      2010          4                1                1  \n",
       "11     2011          5                1                1  \n",
       "13     2012          6                1                1  \n",
       "37987  2013          7                1                1  \n",
       "6      2014          8                1                0  \n",
       "5      2016          9                2                0  "
      ]
     },
     "execution_count": 22,
     "metadata": {},
     "output_type": "execute_result"
    }
   ],
   "source": [
    "sorted_df.head(15)"
   ]
  },
  {
   "cell_type": "code",
   "execution_count": 23,
   "metadata": {},
   "outputs": [
    {
     "data": {
      "text/plain": [
       "Index(['Id', 'Name', 'Age Category', 'Sex', 'Rank', 'Time', 'Year',\n",
       "       'run_count', 'years_since_run', 'particip_next_y'],\n",
       "      dtype='object')"
      ]
     },
     "execution_count": 23,
     "metadata": {},
     "output_type": "execute_result"
    }
   ],
   "source": [
    "sorted_df.columns"
   ]
  },
  {
   "cell_type": "markdown",
   "metadata": {},
   "source": [
    "### Training"
   ]
  },
  {
   "cell_type": "code",
   "execution_count": 24,
   "metadata": {},
   "outputs": [],
   "source": [
    "input_data = sorted_df[['Age Category', 'Sex', 'Rank', 'Time', 'Year','run_count', 'years_since_run', 'particip_next_y']]\n",
    "input_data = input_data[input_data.Year!=2016]             # 2016 is to be used for predicting 2017 next\n",
    "features = input_data.drop(columns = ['particip_next_y'])\n",
    "output = input_data['particip_next_y']"
   ]
  },
  {
   "cell_type": "code",
   "execution_count": 25,
   "metadata": {},
   "outputs": [],
   "source": [
    "# create training and testing sets\n",
    "X_train, X_test, y_train, y_test = train_test_split(features, output, test_size=0.2)"
   ]
  },
  {
   "cell_type": "code",
   "execution_count": 26,
   "metadata": {},
   "outputs": [],
   "source": [
    "# Scaling to [0,1]\n",
    "min_max_scaler = preprocessing.MinMaxScaler()\n",
    "X_train = min_max_scaler.fit_transform(X_train)\n",
    "X_test = min_max_scaler.transform(X_test)"
   ]
  },
  {
   "cell_type": "code",
   "execution_count": 27,
   "metadata": {},
   "outputs": [
    {
     "data": {
      "text/plain": [
       "0.15692169368660616"
      ]
     },
     "execution_count": 27,
     "metadata": {},
     "output_type": "execute_result"
    }
   ],
   "source": [
    "np.mean(output)"
   ]
  },
  {
   "cell_type": "code",
   "execution_count": 28,
   "metadata": {},
   "outputs": [
    {
     "data": {
      "image/png": "[encoded data removed]",
      "text/plain": [
       "<Figure size 432x288 with 1 Axes>"
      ]
     },
     "metadata": {},
     "output_type": "display_data"
    }
   ],
   "source": [
    "target_count = output.value_counts()\n",
    "target_count.plot(kind='bar', title='Count (target)');\n"
   ]
  },
  {
   "cell_type": "markdown",
   "metadata": {},
   "source": [
    "Class imbalance 85/15.\n",
    "We try to balance this:"
   ]
  },
  {
   "cell_type": "code",
   "execution_count": 29,
   "metadata": {},
   "outputs": [],
   "source": [
    "os_us = SMOTETomek(ratio='auto')\n",
    "X_train_res, y_train_res = os_us.fit_sample(X_train, y_train)"
   ]
  },
  {
   "cell_type": "code",
   "execution_count": 30,
   "metadata": {},
   "outputs": [
    {
     "name": "stdout",
     "output_type": "stream",
     "text": [
      "Distribution of class labels before resampling Counter({0: 23996, 1: 4476})\n",
      "Distribution of class labels after resampling Counter({0: 21823, 1: 21823})\n"
     ]
    }
   ],
   "source": [
    "print (\"Distribution of class labels before resampling {Counter(y_train)}\"\n",
    "print (\"Distribution of class labels after resampling {Counter(y_train_res)}\")\n"
   ]
  },
  {
   "cell_type": "code",
   "execution_count": 31,
   "metadata": {},
   "outputs": [],
   "source": [
    "gnb = GaussianNB()\n",
    "y_pred = gnb.fit(X_train_res, y_train_res).predict(X_test)\n"
   ]
  },
  {
   "cell_type": "code",
   "execution_count": 32,
   "metadata": {},
   "outputs": [
    {
     "name": "stdout",
     "output_type": "stream",
     "text": [
      "             precision    recall  f1-score   support\n",
      "\n",
      "          0       0.89      0.89      0.89      6010\n",
      "          1       0.40      0.40      0.40      1109\n",
      "\n",
      "avg / total       0.81      0.81      0.81      7119\n",
      "\n"
     ]
    }
   ],
   "source": [
    "print (classification_report(y_test, y_pred))"
   ]
  },
  {
   "cell_type": "markdown",
   "metadata": {},
   "source": [
    " "
   ]
  },
  {
   "cell_type": "markdown",
   "metadata": {},
   "source": [
    " "
   ]
  },
  {
   "cell_type": "markdown",
   "metadata": {},
   "source": [
    " ### Predicting the attendance"
   ]
  },
  {
   "cell_type": "code",
   "execution_count": 42,
   "metadata": {},
   "outputs": [],
   "source": [
    "input_data = sorted_df[['Age Category', 'Sex', 'Rank', 'Time', 'Year','run_count', 'years_since_run', 'particip_next_y']]\n",
    "input_data_pred = input_data[input_data.Year==2016]             \n",
    "X_topred = input_data_pred.drop(columns = ['particip_next_y'])\n",
    "y_topred = input_data_pred['particip_next_y']"
   ]
  }
 ],
 "metadata": {
  "kernelspec": {
   "display_name": "Python 3",
   "language": "python",
   "name": "python3"
  },
  "language_info": {
   "codemirror_mode": {
    "name": "ipython",
    "version": 3
   },
   "file_extension": ".py",
   "mimetype": "text/x-python",
   "name": "python",
   "nbconvert_exporter": "python",
   "pygments_lexer": "ipython3",
   "version": "3.6.5"
  }
 },
 "nbformat": 4,
 "nbformat_minor": 2
}
